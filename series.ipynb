{
 "cells": [
  {
   "cell_type": "code",
   "execution_count": 3,
   "metadata": {},
   "outputs": [
    {
     "name": "stdout",
     "output_type": "stream",
     "text": [
      "    nombre precio   usuarios\n",
      "0  Netflix  13.99  117000000\n",
      "1      HBO   7.99    1000000\n",
      "2      Sky     10    8000000\n"
     ]
    }
   ],
   "source": [
    "import pandas as pd\n",
    "\n",
    "plataforma = pd.DataFrame(\n",
    "    {\n",
    "        'nombre' : ['Netflix','HBO','Sky'],\n",
    "        'precio' : ['13.99','7.99','10'],\n",
    "        'usuarios' : ['117000000','1000000','8000000']\n",
    "    },columns = ['nombre','precio','usuarios'],\n",
    ")\n",
    "print(plataforma)"
   ]
  },
  {
   "cell_type": "code",
   "execution_count": null,
   "metadata": {},
   "outputs": [],
   "source": []
  }
 ],
 "metadata": {
  "kernelspec": {
   "display_name": "Python 3",
   "language": "python",
   "name": "python3"
  },
  "language_info": {
   "codemirror_mode": {
    "name": "ipython",
    "version": 3
   },
   "file_extension": ".py",
   "mimetype": "text/x-python",
   "name": "python",
   "nbconvert_exporter": "python",
   "pygments_lexer": "ipython3",
   "version": "3.6.5"
  }
 },
 "nbformat": 4,
 "nbformat_minor": 2
}
